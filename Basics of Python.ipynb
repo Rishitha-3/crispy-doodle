{
 "cells": [
  {
   "cell_type": "code",
   "execution_count": 3,
   "id": "3c09a4b7-c6de-483c-b37b-d852f0f430cc",
   "metadata": {},
   "outputs": [],
   "source": [
    "#################################### PRIME NUMBERS ######################################################\n",
    "def is_prime(n):\n",
    "    \"\"\"Check if a number is prime.\"\"\"\n",
    "    if n <= 1:\n",
    "        return False   #If the number is less than or equal to 1, it's not prime.\n",
    "    if n == 2:\n",
    "        return True   # If the number is 2, it is prime (since 2 is the only even prime number).\n",
    "    if n % 2 == 0:\n",
    "        return False  #If the number is even (and greater than 2), it is not prime.\n",
    "\n",
    "    # Check for factors from 3 to the square root of n, skipping even numbers\n",
    "    for i in range(3, int(n**0.5) + 1, 2):\n",
    "        if n % i == 0:\n",
    "            return False\n",
    "    \n",
    "    return True\n",
    "#The function checks for factors from 3 to the square root of the number, skipping even numbers. This is because if n can be factored into two factors a and b, one of them must be less than or equal to the square root of n.\n",
    "#The loop increments by 2 in each iteration (i.e., checks 3, 5, 7, 9, etc.), effectively skipping even numbers."
   ]
  },
  {
   "cell_type": "code",
   "execution_count": 5,
   "id": "e9d8487b-d9f4-4fe7-9b99-8c5c3cdb85ea",
   "metadata": {},
   "outputs": [
    {
     "name": "stdin",
     "output_type": "stream",
     "text": [
      "Enter a number: 5\n"
     ]
    },
    {
     "name": "stdout",
     "output_type": "stream",
     "text": [
      "5 is a prime number.\n"
     ]
    }
   ],
   "source": [
    "# user input\n",
    "num = int(input(\"Enter a number:\"))\n",
    "\n",
    "# Check if the number is prime and print the result\n",
    "if is_prime(num):\n",
    "    print(f\"{num} is a prime number.\")\n",
    "else:\n",
    "    print(f\"{num} is not a prime number.\")\n",
    "\n"
   ]
  },
  {
   "cell_type": "code",
   "execution_count": null,
   "id": "19af143e-0cca-47b1-b460-5d836c43d92c",
   "metadata": {},
   "outputs": [],
   "source": [
    "############################################# Product of Random Numbers #####################################"
   ]
  },
  {
   "cell_type": "code",
   "execution_count": 9,
   "id": "0a0ab279-e930-478a-ba3d-eb651bf4a191",
   "metadata": {},
   "outputs": [],
   "source": [
    "import random\n",
    "\n",
    "num1 = random.randint(1, 10)\n",
    "num2 = random.randint(1, 10)   #The random.randint(1, 10) function generates two random integers between 1 and 10 (inclusive).\n",
    "\n",
    "correct_product = num1 * num2  #The product of the two random numbers is calculated and stored in correct_product.\n",
    "\n"
   ]
  },
  {
   "cell_type": "code",
   "execution_count": 10,
   "id": "b5b40ef5-6680-4ca3-a44d-0afad3a8483d",
   "metadata": {},
   "outputs": [
    {
     "name": "stdout",
     "output_type": "stream",
     "text": [
      "What is the product of 10 and 1?\n"
     ]
    },
    {
     "name": "stdin",
     "output_type": "stream",
     "text": [
      "Your answer:  4\n"
     ]
    },
    {
     "name": "stdout",
     "output_type": "stream",
     "text": [
      "Incorrect. The correct answer is 10.\n"
     ]
    }
   ],
   "source": [
    "# Asking the user to enter the product of the two numbers\n",
    "print(f\"What is the product of {num1} and {num2}?\")\n",
    "user_answer = int(input(\"Your answer: \"))\n",
    "\n",
    "# Checking if the user's answer is correct or not\n",
    "if user_answer == correct_product:\n",
    "    print(\"Correct! Well done.\")\n",
    "else:\n",
    "    print(f\"Incorrect. The correct answer is {correct_product}.\")"
   ]
  },
  {
   "cell_type": "code",
   "execution_count": null,
   "id": "a7de52ef-5c64-4ea4-ad6c-5378b0348d6d",
   "metadata": {},
   "outputs": [],
   "source": [
    "####################################Squares of Even/Odd Numbers####################################"
   ]
  },
  {
   "cell_type": "code",
   "execution_count": 14,
   "id": "ab11726b-6125-44e8-840b-218d8805a3c6",
   "metadata": {},
   "outputs": [
    {
     "name": "stdout",
     "output_type": "stream",
     "text": [
      "The square of 100 is 10000\n",
      "The square of 102 is 10404\n",
      "The square of 104 is 10816\n",
      "The square of 106 is 11236\n",
      "The square of 108 is 11664\n",
      "The square of 110 is 12100\n",
      "The square of 112 is 12544\n",
      "The square of 114 is 12996\n",
      "The square of 116 is 13456\n",
      "The square of 118 is 13924\n",
      "The square of 120 is 14400\n",
      "The square of 122 is 14884\n",
      "The square of 124 is 15376\n",
      "The square of 126 is 15876\n",
      "The square of 128 is 16384\n",
      "The square of 130 is 16900\n",
      "The square of 132 is 17424\n",
      "The square of 134 is 17956\n",
      "The square of 136 is 18496\n",
      "The square of 138 is 19044\n",
      "The square of 140 is 19600\n",
      "The square of 142 is 20164\n",
      "The square of 144 is 20736\n",
      "The square of 146 is 21316\n",
      "The square of 148 is 21904\n",
      "The square of 150 is 22500\n",
      "The square of 152 is 23104\n",
      "The square of 154 is 23716\n",
      "The square of 156 is 24336\n",
      "The square of 158 is 24964\n",
      "The square of 160 is 25600\n",
      "The square of 162 is 26244\n",
      "The square of 164 is 26896\n",
      "The square of 166 is 27556\n",
      "The square of 168 is 28224\n",
      "The square of 170 is 28900\n",
      "The square of 172 is 29584\n",
      "The square of 174 is 30276\n",
      "The square of 176 is 30976\n",
      "The square of 178 is 31684\n",
      "The square of 180 is 32400\n",
      "The square of 182 is 33124\n",
      "The square of 184 is 33856\n",
      "The square of 186 is 34596\n",
      "The square of 188 is 35344\n",
      "The square of 190 is 36100\n",
      "The square of 192 is 36864\n",
      "The square of 194 is 37636\n",
      "The square of 196 is 38416\n",
      "The square of 198 is 39204\n",
      "The square of 200 is 40000\n"
     ]
    }
   ],
   "source": [
    "# This script prints the squares of all even numbers within the range of 100 to 200.\n",
    "for num in range(100, 200):\n",
    "    #The range(100, 200) function generates a sequence of numbers from 100 to 200 (inclusive).\n",
    "      if num % 2 == 0:\n",
    "        # The if num % 2 == 0 condition checks if the number is even. If the condition is true, the number is even.\n",
    "        square = num ** 2  #The ** operator is used to calculate the square of the even number.\n",
    "        # Printing the result\n",
    "        print(f\"The square of {num} is {square}\")"
   ]
  },
  {
   "cell_type": "code",
   "execution_count": 13,
   "id": "7a9ccf1f-6481-4c9f-9239-c9b462d3b2e1",
   "metadata": {},
   "outputs": [
    {
     "name": "stdout",
     "output_type": "stream",
     "text": [
      "The square of 101 is 10201\n",
      "The square of 103 is 10609\n",
      "The square of 105 is 11025\n",
      "The square of 107 is 11449\n",
      "The square of 109 is 11881\n",
      "The square of 111 is 12321\n",
      "The square of 113 is 12769\n",
      "The square of 115 is 13225\n",
      "The square of 117 is 13689\n",
      "The square of 119 is 14161\n",
      "The square of 121 is 14641\n",
      "The square of 123 is 15129\n",
      "The square of 125 is 15625\n",
      "The square of 127 is 16129\n",
      "The square of 129 is 16641\n",
      "The square of 131 is 17161\n",
      "The square of 133 is 17689\n",
      "The square of 135 is 18225\n",
      "The square of 137 is 18769\n",
      "The square of 139 is 19321\n",
      "The square of 141 is 19881\n",
      "The square of 143 is 20449\n",
      "The square of 145 is 21025\n",
      "The square of 147 is 21609\n",
      "The square of 149 is 22201\n",
      "The square of 151 is 22801\n",
      "The square of 153 is 23409\n",
      "The square of 155 is 24025\n",
      "The square of 157 is 24649\n",
      "The square of 159 is 25281\n",
      "The square of 161 is 25921\n",
      "The square of 163 is 26569\n",
      "The square of 165 is 27225\n",
      "The square of 167 is 27889\n",
      "The square of 169 is 28561\n",
      "The square of 171 is 29241\n",
      "The square of 173 is 29929\n",
      "The square of 175 is 30625\n",
      "The square of 177 is 31329\n",
      "The square of 179 is 32041\n",
      "The square of 181 is 32761\n",
      "The square of 183 is 33489\n",
      "The square of 185 is 34225\n",
      "The square of 187 is 34969\n",
      "The square of 189 is 35721\n",
      "The square of 191 is 36481\n",
      "The square of 193 is 37249\n",
      "The square of 195 is 38025\n",
      "The square of 197 is 38809\n",
      "The square of 199 is 39601\n"
     ]
    }
   ],
   "source": [
    "# This script prints the squares of all odd numbers within the range of 100 to 200.\n",
    "for num in range(100, 200): \n",
    "    # The range(100, 200) function generates a sequence of numbers from 100 to 200 (inclusive).\n",
    "    if num % 2 != 0:\n",
    "        # The if num % 2 != 0 condition checks if the number is odd. If the condition is true, the number is odd.\n",
    "        square = num ** 2 #The ** operator is used to calculate the square of the odd number.\n",
    "        # Printing the result\n",
    "        print(f\"The square of {num} is {square}\")"
   ]
  },
  {
   "cell_type": "code",
   "execution_count": null,
   "id": "8639faec-1bf9-48ca-b964-8ac779c20abb",
   "metadata": {},
   "outputs": [],
   "source": [
    "############################################Word counter###############################################"
   ]
  },
  {
   "cell_type": "code",
   "execution_count": 15,
   "id": "5021533e-ff73-4796-abc8-9f80e16aa69f",
   "metadata": {},
   "outputs": [
    {
     "name": "stdout",
     "output_type": "stream",
     "text": [
      "'this': 2\n",
      "'is': 1\n",
      "'a': 1\n",
      "'sample': 1\n",
      "'text.': 1\n",
      "'text': 1\n",
      "'will': 1\n",
      "'be': 1\n",
      "'used': 1\n",
      "'to': 1\n",
      "'demonstrate': 1\n",
      "'the': 1\n",
      "'word': 1\n",
      "'counter.': 1\n"
     ]
    }
   ],
   "source": [
    "def count_words(text):\n",
    "    \n",
    "    words = text.split() #The split() method splits the input text into a list of words based on whitespace.\n",
    "\n",
    "    word_counts = {} #The word_counts dictionary is initialized to store the count of each word.\n",
    "\n",
    "    \n",
    "    # Iterate over each word in the list\n",
    "    for word in words:\n",
    "        word = word .lower() #The program iterates over each word in the list. To make the count case-insensitive, each word is converted to lowercase using the lower() method.\n",
    "        \n",
    "        if word in word_counts:\n",
    "            word_counts[word] += 1 #If the word is already present in the dictionary, its count is incremented.\n",
    "        else:\n",
    "            word_counts[word] = 1 #If the word is not present in the dictionary, it is added with a count of 1.\n",
    "    \n",
    "    # Return the dictionary containing word counts\n",
    "    return word_counts"
   ]
  },
  {
   "cell_type": "code",
   "execution_count": 21,
   "id": "7aa526e9-bb3c-4f35-968b-4ccde5e997b9",
   "metadata": {},
   "outputs": [
    {
     "name": "stdout",
     "output_type": "stream",
     "text": [
      "'this': 2\n",
      "'is': 1\n",
      "'a': 1\n",
      "'sample': 1\n",
      "'text.': 1\n",
      "'text': 1\n",
      "'will': 1\n",
      "'be': 1\n",
      "'used': 1\n",
      "'to': 1\n",
      "'demonstrate': 1\n",
      "'the': 1\n",
      "'word': 1\n",
      "'counter.': 1\n"
     ]
    }
   ],
   "source": [
    "# Example input text\n",
    "input_text = \"This is a sample text. This text will be used to demonstrate the word counter.\"\n",
    "\n",
    "# Get the word counts\n",
    "word_counts = count_words(input_text)\n",
    "\n",
    "# Printing the word counts\n",
    "for word, count in word_counts.items():\n",
    "    print(f\"'{word}': {count}\")"
   ]
  },
  {
   "cell_type": "code",
   "execution_count": null,
   "id": "514e7b43-a1d5-446f-b52d-11ab5b306ede",
   "metadata": {},
   "outputs": [],
   "source": [
    "#####################################Check for Palindrome##############################################"
   ]
  },
  {
   "cell_type": "code",
   "execution_count": 17,
   "id": "781cc0bb-6209-45a2-b5db-00bffe7be510",
   "metadata": {},
   "outputs": [],
   "source": [
    "import string\n",
    "\n",
    "def is_palindrome(s):\n",
    "    s = s.translate(str.maketrans('', '', string.punctuation)).replace(\" \", \"\").lower()\n",
    "    #s.translate(str.maketrans('', '', string.punctuation)) removes all punctuation from the string\n",
    "    #replace(\" \", \"\") removes all spaces from the string.\n",
    "    #lower() converts the string to lowercase to ensure the palindrome check is case-insensitive.\n",
    "    return s == s[::-1]\n",
    "#s == s[::-1] compares the cleaned string with its reverse. If they are equal, the string is a palindrome.\n"
   ]
  },
  {
   "cell_type": "code",
   "execution_count": 20,
   "id": "098dcc30-4439-4afc-9e54-4ffe03685e07",
   "metadata": {},
   "outputs": [
    {
     "name": "stdout",
     "output_type": "stream",
     "text": [
      "True\n",
      "True\n",
      "True\n",
      "False\n"
     ]
    }
   ],
   "source": [
    "print(is_palindrome(\"A man, a plan, a canal, Panama\"))  # Should return True (After cleaning, the string becomes \"amanaplanacanalpanama\", which is a palindrome.)\n",
    "print(is_palindrome(\"Madam\"))# Should return True (The string is already a palindrome without any cleaning needed.)\n",
    "print(is_palindrome(\"1235321\"))\n",
    "print(is_palindrome(\"hello\"))    # Should return False (The string \"hello\" is not the same forwards and backwards)"
   ]
  },
  {
   "cell_type": "code",
   "execution_count": null,
   "id": "8cb69370-1407-4bc1-ade3-6f3356aa3754",
   "metadata": {},
   "outputs": [],
   "source": []
  }
 ],
 "metadata": {
  "kernelspec": {
   "display_name": "Python 3 (ipykernel)",
   "language": "python",
   "name": "python3"
  },
  "language_info": {
   "codemirror_mode": {
    "name": "ipython",
    "version": 3
   },
   "file_extension": ".py",
   "mimetype": "text/x-python",
   "name": "python",
   "nbconvert_exporter": "python",
   "pygments_lexer": "ipython3",
   "version": "3.11.7"
  }
 },
 "nbformat": 4,
 "nbformat_minor": 5
}
